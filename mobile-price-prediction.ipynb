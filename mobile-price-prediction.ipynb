{
 "metadata": {
  "language_info": {
   "codemirror_mode": {
    "name": "ipython",
    "version": 3
   },
   "file_extension": ".py",
   "mimetype": "text/x-python",
   "name": "python",
   "nbconvert_exporter": "python",
   "pygments_lexer": "ipython3",
   "version": "3.7.7"
  },
  "orig_nbformat": 2,
  "kernelspec": {
   "name": "python377jvsc74a57bd0a9703a06e2b5a0d937b12dc88671f2eb6a1153765bb1a5a6669290a70b0358bd",
   "display_name": "Python 3.7.7 64-bit ('.env': venv)"
  }
 },
 "nbformat": 4,
 "nbformat_minor": 2,
 "cells": [
  {
   "cell_type": "code",
   "execution_count": 1,
   "metadata": {},
   "outputs": [],
   "source": [
    "\n",
    "\n",
    "#importing libraries\n",
    "import pandas as pd \n",
    "import numpy as np \n",
    "import seaborn as sns \n",
    "import matplotlib.pyplot as plt\n",
    "from sklearn.preprocessing import StandardScaler\n",
    "from sklearn.model_selection import train_test_split,GridSearchCV\n",
    "from sklearn.metrics import accuracy_score,confusion_matrix\n",
    "from sklearn.model_selection import train_test_split\n",
    "from sklearn.model_selection import GridSearchCV\n",
    "from sklearn.metrics import accuracy_score,confusion_matrix,classification_report\n",
    "\n"
   ]
  },
  {
   "cell_type": "code",
   "execution_count": 2,
   "metadata": {},
   "outputs": [
    {
     "output_type": "execute_result",
     "data": {
      "text/plain": [
       "   battery_power  blue  clock_speed  dual_sim  fc  four_g  int_memory  m_dep  \\\n",
       "0            842     0          2.2         0   1       0           7    0.6   \n",
       "1           1021     1          0.5         1   0       1          53    0.7   \n",
       "2            563     1          0.5         1   2       1          41    0.9   \n",
       "3            615     1          2.5         0   0       0          10    0.8   \n",
       "4           1821     1          1.2         0  13       1          44    0.6   \n",
       "\n",
       "   mobile_wt  n_cores  ...  px_height  px_width   ram  sc_h  sc_w  talk_time  \\\n",
       "0        188        2  ...         20       756  2549     9     7         19   \n",
       "1        136        3  ...        905      1988  2631    17     3          7   \n",
       "2        145        5  ...       1263      1716  2603    11     2          9   \n",
       "3        131        6  ...       1216      1786  2769    16     8         11   \n",
       "4        141        2  ...       1208      1212  1411     8     2         15   \n",
       "\n",
       "   three_g  touch_screen  wifi  price_range  \n",
       "0        0             0     1            1  \n",
       "1        1             1     0            2  \n",
       "2        1             1     0            2  \n",
       "3        1             0     0            2  \n",
       "4        1             1     0            1  \n",
       "\n",
       "[5 rows x 21 columns]"
      ],
      "text/html": "<div>\n<style scoped>\n    .dataframe tbody tr th:only-of-type {\n        vertical-align: middle;\n    }\n\n    .dataframe tbody tr th {\n        vertical-align: top;\n    }\n\n    .dataframe thead th {\n        text-align: right;\n    }\n</style>\n<table border=\"1\" class=\"dataframe\">\n  <thead>\n    <tr style=\"text-align: right;\">\n      <th></th>\n      <th>battery_power</th>\n      <th>blue</th>\n      <th>clock_speed</th>\n      <th>dual_sim</th>\n      <th>fc</th>\n      <th>four_g</th>\n      <th>int_memory</th>\n      <th>m_dep</th>\n      <th>mobile_wt</th>\n      <th>n_cores</th>\n      <th>...</th>\n      <th>px_height</th>\n      <th>px_width</th>\n      <th>ram</th>\n      <th>sc_h</th>\n      <th>sc_w</th>\n      <th>talk_time</th>\n      <th>three_g</th>\n      <th>touch_screen</th>\n      <th>wifi</th>\n      <th>price_range</th>\n    </tr>\n  </thead>\n  <tbody>\n    <tr>\n      <th>0</th>\n      <td>842</td>\n      <td>0</td>\n      <td>2.2</td>\n      <td>0</td>\n      <td>1</td>\n      <td>0</td>\n      <td>7</td>\n      <td>0.6</td>\n      <td>188</td>\n      <td>2</td>\n      <td>...</td>\n      <td>20</td>\n      <td>756</td>\n      <td>2549</td>\n      <td>9</td>\n      <td>7</td>\n      <td>19</td>\n      <td>0</td>\n      <td>0</td>\n      <td>1</td>\n      <td>1</td>\n    </tr>\n    <tr>\n      <th>1</th>\n      <td>1021</td>\n      <td>1</td>\n      <td>0.5</td>\n      <td>1</td>\n      <td>0</td>\n      <td>1</td>\n      <td>53</td>\n      <td>0.7</td>\n      <td>136</td>\n      <td>3</td>\n      <td>...</td>\n      <td>905</td>\n      <td>1988</td>\n      <td>2631</td>\n      <td>17</td>\n      <td>3</td>\n      <td>7</td>\n      <td>1</td>\n      <td>1</td>\n      <td>0</td>\n      <td>2</td>\n    </tr>\n    <tr>\n      <th>2</th>\n      <td>563</td>\n      <td>1</td>\n      <td>0.5</td>\n      <td>1</td>\n      <td>2</td>\n      <td>1</td>\n      <td>41</td>\n      <td>0.9</td>\n      <td>145</td>\n      <td>5</td>\n      <td>...</td>\n      <td>1263</td>\n      <td>1716</td>\n      <td>2603</td>\n      <td>11</td>\n      <td>2</td>\n      <td>9</td>\n      <td>1</td>\n      <td>1</td>\n      <td>0</td>\n      <td>2</td>\n    </tr>\n    <tr>\n      <th>3</th>\n      <td>615</td>\n      <td>1</td>\n      <td>2.5</td>\n      <td>0</td>\n      <td>0</td>\n      <td>0</td>\n      <td>10</td>\n      <td>0.8</td>\n      <td>131</td>\n      <td>6</td>\n      <td>...</td>\n      <td>1216</td>\n      <td>1786</td>\n      <td>2769</td>\n      <td>16</td>\n      <td>8</td>\n      <td>11</td>\n      <td>1</td>\n      <td>0</td>\n      <td>0</td>\n      <td>2</td>\n    </tr>\n    <tr>\n      <th>4</th>\n      <td>1821</td>\n      <td>1</td>\n      <td>1.2</td>\n      <td>0</td>\n      <td>13</td>\n      <td>1</td>\n      <td>44</td>\n      <td>0.6</td>\n      <td>141</td>\n      <td>2</td>\n      <td>...</td>\n      <td>1208</td>\n      <td>1212</td>\n      <td>1411</td>\n      <td>8</td>\n      <td>2</td>\n      <td>15</td>\n      <td>1</td>\n      <td>1</td>\n      <td>0</td>\n      <td>1</td>\n    </tr>\n  </tbody>\n</table>\n<p>5 rows × 21 columns</p>\n</div>"
     },
     "metadata": {},
     "execution_count": 2
    }
   ],
   "source": [
    "#import dataset\n",
    "df = pd.read_csv('train.csv')\n",
    "\n",
    "# uncomment the line below to drop \n",
    "# df = df.drop('battery_power',axis=1)\n",
    "\n",
    "x, y = df.drop('price_range',axis=1), df['price_range']\n",
    "x_train, x_test, y_train, y_test = train_test_split(x, y, test_size=0.25, random_state=123, stratify=y)\n",
    "\n",
    "df.head()"
   ]
  },
  {
   "cell_type": "code",
   "execution_count": 3,
   "metadata": {
    "tags": []
   },
   "outputs": [
    {
     "output_type": "stream",
     "name": "stdout",
     "text": [
      "{'C': 1.0, 'penalty': 'l2'}\nTrain Set Accuracy: 64.26666666666667\nTest Set Accuracy: 63.4\n\nConfusion Matrix:\n[[97 25  0  0]\n [27 65 35  1]\n [ 1 30 57 26]\n [ 0  5 33 98]]\n\nClassification Report:\n              precision    recall  f1-score   support\n\n           0       0.78      0.80      0.79       122\n           1       0.52      0.51      0.51       128\n           2       0.46      0.50      0.48       114\n           3       0.78      0.72      0.75       136\n\n    accuracy                           0.63       500\n   macro avg       0.63      0.63      0.63       500\nweighted avg       0.64      0.63      0.64       500\n\n"
     ]
    }
   ],
   "source": [
    "# Logistic Regression\n",
    "from sklearn.linear_model import LogisticRegression\n",
    "import warnings\n",
    "warnings.filterwarnings('ignore')\n",
    "\n",
    "gcv = GridSearchCV(LogisticRegression(), {\"C\":np.logspace(-3,3,7), \n",
    "                                          \"penalty\":[\"l1\",\"l2\"]}).fit(x_train, y_train)\n",
    "print(gcv.best_params_)\n",
    "\n",
    "lr = gcv.best_estimator_\n",
    "y_test_pred = lr.predict(x_test)\n",
    "y_train_pred = lr.predict(x_train)\n",
    "\n",
    "lr_acc = accuracy_score(y_test_pred, y_test)\n",
    "\n",
    "print(\"Train Set Accuracy: \"+str(accuracy_score(y_train_pred,y_train)*100))\n",
    "print(\"Test Set Accuracy: \"+str(accuracy_score(y_test_pred,y_test)*100))\n",
    "print(\"\\nConfusion Matrix:\\n%s\"%confusion_matrix(y_test_pred,y_test))\n",
    "print(\"\\nClassification Report:\\n%s\"%classification_report(y_test_pred,y_test))"
   ]
  },
  {
   "cell_type": "code",
   "execution_count": 4,
   "metadata": {},
   "outputs": [
    {
     "output_type": "stream",
     "name": "stdout",
     "text": [
      "{'n_neighbors': 9}\nTrain Set Accuracy: 95.46666666666667\nTest Set Accuracy: 91.0\n\nConfusion Matrix:\n[[123  14   0   0]\n [  2 104   8   0]\n [  0   7 112   9]\n [  0   0   5 116]]\n\nClassification Report:\n              precision    recall  f1-score   support\n\n           0       0.98      0.90      0.94       137\n           1       0.83      0.91      0.87       114\n           2       0.90      0.88      0.89       128\n           3       0.93      0.96      0.94       121\n\n    accuracy                           0.91       500\n   macro avg       0.91      0.91      0.91       500\nweighted avg       0.91      0.91      0.91       500\n\n"
     ]
    }
   ],
   "source": [
    "# K-Nearest Neighbors (kNN)\n",
    "from sklearn.neighbors import KNeighborsClassifier\n",
    "\n",
    "gcv = GridSearchCV(KNeighborsClassifier(), {\"n_neighbors\":range(4,20)}).fit(x_train, y_train)\n",
    "\n",
    "print(gcv.best_params_)\n",
    "\n",
    "knn = gcv.best_estimator_\n",
    "y_test_pred1 = knn.predict(x_test)\n",
    "y_train_pred1 = knn.predict(x_train)\n",
    "\n",
    "knn_acc = accuracy_score(y_test_pred1,y_test)\n",
    "\n",
    "print(\"Train Set Accuracy: \"+str(accuracy_score(y_train_pred1,y_train)*100))\n",
    "print(\"Test Set Accuracy: \"+str(accuracy_score(y_test_pred1,y_test)*100))\n",
    "print(\"\\nConfusion Matrix:\\n%s\"%confusion_matrix(y_test_pred1,y_test))\n",
    "print(\"\\nClassification Report:\\n%s\"%classification_report(y_test_pred1,y_test))"
   ]
  },
  {
   "cell_type": "code",
   "execution_count": 5,
   "metadata": {},
   "outputs": [
    {
     "output_type": "stream",
     "name": "stdout",
     "text": [
      "{'C': 100}\nTrain Set Accuracy: 97.86666666666667\nTest Set Accuracy: 96.8\n\nConfusion Matrix:\n[[125   4   0   0]\n [  0 115   2   0]\n [  0   6 119   0]\n [  0   0   4 125]]\n\nClassification Report:\n              precision    recall  f1-score   support\n\n           0       1.00      0.97      0.98       129\n           1       0.92      0.98      0.95       117\n           2       0.95      0.95      0.95       125\n           3       1.00      0.97      0.98       129\n\n    accuracy                           0.97       500\n   macro avg       0.97      0.97      0.97       500\nweighted avg       0.97      0.97      0.97       500\n\n"
     ]
    }
   ],
   "source": [
    "# Support Vector Machine (SVM)\n",
    "from sklearn.svm import SVC\n",
    "\n",
    "gcv = GridSearchCV(SVC(), {'C': [0.1, 1, 10, 100, 1000]}).fit(x_train, y_train)\n",
    "\n",
    "print(gcv.best_params_)\n",
    "svc = gcv.best_estimator_\n",
    "y_test_pred2 = svc.predict(x_test)\n",
    "y_train_pred2 = svc.predict(x_train)\n",
    "\n",
    "svc_acc = accuracy_score(y_test_pred2,y_test)\n",
    "\n",
    "print(\"Train Set Accuracy: \"+str(accuracy_score(y_train_pred2,y_train)*100))\n",
    "print(\"Test Set Accuracy: \"+str(accuracy_score(y_test_pred2,y_test)*100))\n",
    "print(\"\\nConfusion Matrix:\\n%s\"%confusion_matrix(y_test_pred2,y_test))\n",
    "print(\"\\nClassification Report:\\n%s\"%classification_report(y_test_pred2,y_test))"
   ]
  },
  {
   "cell_type": "code",
   "execution_count": 6,
   "metadata": {},
   "outputs": [
    {
     "output_type": "stream",
     "name": "stdout",
     "text": [
      "{'max_depth': 7, 'min_samples_leaf': 7, 'min_samples_split': 6}\nTrain Set Accuracy: 92.53333333333333\nTest Set Accuracy: 83.6\n\nConfusion Matrix:\n[[114  15   0   0]\n [ 11  98  18   0]\n [  0  12  95  14]\n [  0   0  12 111]]\n\nClassification Report:\n              precision    recall  f1-score   support\n\n           0       0.91      0.88      0.90       129\n           1       0.78      0.77      0.78       127\n           2       0.76      0.79      0.77       121\n           3       0.89      0.90      0.90       123\n\n    accuracy                           0.84       500\n   macro avg       0.84      0.84      0.84       500\nweighted avg       0.84      0.84      0.84       500\n\n"
     ]
    }
   ],
   "source": [
    "# Decision Tree\n",
    "from sklearn.tree import DecisionTreeClassifier\n",
    "\n",
    "gcv = GridSearchCV(DecisionTreeClassifier(), {'max_depth': range(1,30), \n",
    "                                             'min_samples_split': range(2,8), \n",
    "                                             'min_samples_leaf': range(2, 8)}).fit(x_train, y_train)\n",
    "print(gcv.best_params_)\n",
    "dt = gcv.best_estimator_\n",
    "y_test_pred4 = dt.predict(x_test)\n",
    "y_train_pred4 = dt.predict(x_train)\n",
    "\n",
    "dt_acc = accuracy_score(y_test_pred4, y_test)\n",
    "\n",
    "print(\"Train Set Accuracy: \"+str(accuracy_score(y_train_pred4,y_train)*100))\n",
    "print(\"Test Set Accuracy: \"+str(accuracy_score(y_test_pred4,y_test)*100))\n",
    "print(\"\\nConfusion Matrix:\\n%s\"%confusion_matrix(y_test_pred4,y_test))\n",
    "print(\"\\nClassification Report:\\n%s\"%classification_report(y_test_pred4,y_test))"
   ]
  },
  {
   "cell_type": "code",
   "execution_count": 7,
   "metadata": {},
   "outputs": [
    {
     "output_type": "stream",
     "name": "stdout",
     "text": [
      "{'criterion': 'entropy', 'n_estimators': 500}\n",
      "Train Set Accuracy: 100.0\n",
      "Test Set Accuracy: 87.2\n",
      "\n",
      "Confusion Matrix:\n",
      "[[120  15   0   0]\n",
      " [  5 101  25   0]\n",
      " [  0   9  97   7]\n",
      " [  0   0   3 118]]\n",
      "\n",
      "Classification Report:\n",
      "              precision    recall  f1-score   support\n",
      "\n",
      "           0       0.96      0.89      0.92       135\n",
      "           1       0.81      0.77      0.79       131\n",
      "           2       0.78      0.86      0.82       113\n",
      "           3       0.94      0.98      0.96       121\n",
      "\n",
      "    accuracy                           0.87       500\n",
      "   macro avg       0.87      0.87      0.87       500\n",
      "weighted avg       0.87      0.87      0.87       500\n",
      "\n"
     ]
    }
   ],
   "source": [
    "# Random Forest\n",
    "from sklearn.ensemble import RandomForestClassifier\n",
    "\n",
    "gcv = GridSearchCV(RandomForestClassifier(), {'n_estimators': [100, 250, 375, 500],\n",
    "                                              'criterion': ['gini', 'entropy']}).fit(x_train, y_train)\n",
    "print(gcv.best_params_)\n",
    "rf = gcv.best_estimator_\n",
    "y_test_pred5 = rf.predict(x_test)\n",
    "y_train_pred5 = rf.predict(x_train)\n",
    "\n",
    "rf_acc = accuracy_score(y_test_pred5, y_test)\n",
    "\n",
    "print(\"Train Set Accuracy: \"+str(accuracy_score(y_train_pred5,y_train)*100))\n",
    "print(\"Test Set Accuracy: \"+str(accuracy_score(y_test_pred5,y_test)*100))\n",
    "print(\"\\nConfusion Matrix:\\n%s\"%confusion_matrix(y_test_pred5,y_test))\n",
    "print(\"\\nClassification Report:\\n%s\"%classification_report(y_test_pred5,y_test))"
   ]
  },
  {
   "cell_type": "code",
   "execution_count": null,
   "metadata": {},
   "outputs": [],
   "source": []
  }
 ]
}